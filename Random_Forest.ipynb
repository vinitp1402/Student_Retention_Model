{
  "nbformat": 4,
  "nbformat_minor": 0,
  "metadata": {
    "colab": {
      "name": "Random Forest.ipynb",
      "provenance": [],
      "collapsed_sections": [],
      "toc_visible": true,
      "include_colab_link": true
    },
    "kernelspec": {
      "name": "python3",
      "display_name": "Python 3"
    }
  },
  "cells": [
    {
      "cell_type": "markdown",
      "metadata": {
        "id": "view-in-github",
        "colab_type": "text"
      },
      "source": [
        "<a href=\"https://colab.research.google.com/github/vinitp1402/Student_Retention_Model/blob/master/Random_Forest.ipynb\" target=\"_parent\"><img src=\"https://colab.research.google.com/assets/colab-badge.svg\" alt=\"Open In Colab\"/></a>"
      ]
    },
    {
      "cell_type": "code",
      "metadata": {
        "id": "psmotS504k30",
        "colab_type": "code",
        "colab": {}
      },
      "source": [
        "import pandas as pd\n",
        "import numpy as np\n",
        "from sklearn.model_selection import train_test_split"
      ],
      "execution_count": 0,
      "outputs": []
    },
    {
      "cell_type": "markdown",
      "metadata": {
        "id": "T-UOsP7W48e5",
        "colab_type": "text"
      },
      "source": [
        "### Import the csv file exported from Retention_Model_1.ipynb"
      ]
    },
    {
      "cell_type": "code",
      "metadata": {
        "id": "0PUmBoiR5iTD",
        "colab_type": "code",
        "outputId": "2fcec0b5-62d0-4b7c-f495-435a49febdf0",
        "colab": {
          "base_uri": "https://localhost:8080/",
          "height": 124
        }
      },
      "source": [
        "from google.colab import drive\n",
        "drive.mount('/content/drive')"
      ],
      "execution_count": 0,
      "outputs": [
        {
          "output_type": "stream",
          "text": [
            "Go to this URL in a browser: https://accounts.google.com/o/oauth2/auth?client_id=947318989803-6bn6qk8qdgf4n4g3pfee6491hc0brc4i.apps.googleusercontent.com&redirect_uri=urn%3Aietf%3Awg%3Aoauth%3A2.0%3Aoob&scope=email%20https%3A%2F%2Fwww.googleapis.com%2Fauth%2Fdocs.test%20https%3A%2F%2Fwww.googleapis.com%2Fauth%2Fdrive%20https%3A%2F%2Fwww.googleapis.com%2Fauth%2Fdrive.photos.readonly%20https%3A%2F%2Fwww.googleapis.com%2Fauth%2Fpeopleapi.readonly&response_type=code\n",
            "\n",
            "Enter your authorization code:\n",
            "··········\n",
            "Mounted at /content/drive\n"
          ],
          "name": "stdout"
        }
      ]
    },
    {
      "cell_type": "code",
      "metadata": {
        "id": "B6DkFU7a6op6",
        "colab_type": "code",
        "colab": {}
      },
      "source": [
        "#model_ds = pd.read_csv(\"drive/My Drive/model_3.csv\")\n",
        "model_ds = pd.read_csv(\"model_wide.csv\")"
      ],
      "execution_count": 0,
      "outputs": []
    },
    {
      "cell_type": "code",
      "metadata": {
        "id": "a6vsgebq69Ws",
        "colab_type": "code",
        "colab": {}
      },
      "source": [
        "#model_ds = model_ds.drop(columns=['Unnamed: 0'])\n",
        "model_ds = model_ds.dropna()"
      ],
      "execution_count": 0,
      "outputs": []
    },
    {
      "cell_type": "markdown",
      "metadata": {
        "id": "wNwEQXNW96_1",
        "colab_type": "text"
      },
      "source": [
        "## Select features and labels"
      ]
    },
    {
      "cell_type": "code",
      "metadata": {
        "id": "xABUnzR9-DC4",
        "colab_type": "code",
        "colab": {}
      },
      "source": [
        "feat = model_ds.drop(columns=['Unnamed: 0','Retained', 'Student_No'],axis=1)\n",
        "label = model_ds[[\"Retained\"]]"
      ],
      "execution_count": 0,
      "outputs": []
    },
    {
      "cell_type": "code",
      "metadata": {
        "id": "ttzIe9nzaZYF",
        "colab_type": "code",
        "colab": {
          "base_uri": "https://localhost:8080/",
          "height": 809
        },
        "outputId": "e11f5d5a-5728-4254-b3ac-1ded42c3c3c5"
      },
      "source": [
        "model_ds.isna().sum()"
      ],
      "execution_count": 20,
      "outputs": [
        {
          "output_type": "execute_result",
          "data": {
            "text/plain": [
              "Unnamed: 0                                0\n",
              "Enrolment_Year                            0\n",
              "Student_No                                0\n",
              "SFS                                       0\n",
              "SFT                                       0\n",
              "NPS                                       0\n",
              "Course_Uniq                               0\n",
              "Course_Loc_Uniq                           0\n",
              "Subjects_Uniq                             0\n",
              "No of Years                               0\n",
              "Retained                                  0\n",
              "Subjects_Repeated                         0\n",
              "School_School 1                           0\n",
              "School_School 10                          0\n",
              "School_School 11                          0\n",
              "School_School 12                          0\n",
              "School_School 13                          0\n",
              "School_School 14                          0\n",
              "School_School 2                           0\n",
              "School_School 3                           0\n",
              "School_School 4                           0\n",
              "School_School 5                           0\n",
              "School_School 6                           0\n",
              "School_School 7                           0\n",
              "School_School 8                           0\n",
              "School_School 9                           0\n",
              "ATAR_Band_40.00 - 49.95                   0\n",
              "ATAR_Band_50.00 - 59.95                   0\n",
              "ATAR_Band_60.00 - 69.95                   0\n",
              "ATAR_Band_70.00 - 79.95                   0\n",
              "ATAR_Band_80.00 - 89.95                   0\n",
              "ATAR_Band_90.00 - 99.95                   0\n",
              "ATAR_Band_NA                              0\n",
              "Age_Group 1                               0\n",
              "Age_Group 2                               0\n",
              "Age_Group 3                               0\n",
              "Age_Group 4                               0\n",
              "Age_Group 5                               0\n",
              "Age_Group 6                               0\n",
              "Age_Group 7                               0\n",
              "Age_NA                                    0\n",
              "Course_Category_Group_Postgraduate Cwk    0\n",
              "Course_Category_Group_Research            0\n",
              "Course_Category_Group_Undergraduate       0\n",
              "dtype: int64"
            ]
          },
          "metadata": {
            "tags": []
          },
          "execution_count": 20
        }
      ]
    },
    {
      "cell_type": "markdown",
      "metadata": {
        "id": "LEvxfEqfD69r",
        "colab_type": "text"
      },
      "source": [
        "# Jump to ROC Curve"
      ]
    },
    {
      "cell_type": "code",
      "metadata": {
        "id": "tMFhJo0D-T2A",
        "colab_type": "code",
        "colab": {}
      },
      "source": [
        "X_train, y_train, X_test, y_test = train_test_split(feat, label, test_size=0.3, random_state=1)"
      ],
      "execution_count": 0,
      "outputs": []
    },
    {
      "cell_type": "code",
      "metadata": {
        "id": "UCOIiCDcdvle",
        "colab_type": "code",
        "outputId": "3d3ec1c3-4b4b-4586-980f-443b3ae44733",
        "colab": {
          "base_uri": "https://localhost:8080/",
          "height": 87
        }
      },
      "source": [
        "print(X_train.shape)\n",
        "print(y_train.shape)\n",
        "print(X_test.shape)\n",
        "print(y_test.shape)"
      ],
      "execution_count": 28,
      "outputs": [
        {
          "output_type": "stream",
          "text": [
            "(109535, 41)\n",
            "(46944, 41)\n",
            "(109535, 1)\n",
            "(46944, 1)\n"
          ],
          "name": "stdout"
        }
      ]
    },
    {
      "cell_type": "code",
      "metadata": {
        "id": "9DiWg_laSbyb",
        "colab_type": "code",
        "outputId": "d7b647f7-7861-432e-9c36-bd5ae03c1323",
        "colab": {
          "base_uri": "https://localhost:8080/",
          "height": 406
        }
      },
      "source": [
        "from sklearn.preprocessing import StandardScaler\n",
        "sc_x = StandardScaler()\n",
        "\n",
        "X_train_sc = sc_x.fit_transform(X_train)\n",
        "#No need to scale target variables x_test = sc_x.fit_transform(x_test)\n",
        "#scalar model is fitted , only transform the target variables\n",
        "y_train_sc = sc_x.transform(y_train)\n",
        "#Same logic y_test = sc_x.fit_transform(y_test)\n",
        "\n",
        "#Import Random Forest Model and accuracy metric libraries\n",
        "from sklearn.ensemble import RandomForestClassifier\n",
        "from sklearn.model_selection import GridSearchCV\n",
        "\n",
        "#Hyperparamters tuning using grid search a.k.a check every combiantion and \n",
        "#choose the most appropriate variable\n",
        "\n",
        "n_estimators = [100] #, 300, 500, 800, 1200]\n",
        "max_depth = [10]# , 8, 15] #, 25, 30]\n",
        "min_samples_split = [2]#, 10, 15, 100]\n",
        "min_samples_leaf = [1]#, 2, 5, 10] \n",
        "\n",
        "hyperF = dict(n_estimators = n_estimators, max_depth = max_depth,  \n",
        "              min_samples_split = min_samples_split, \n",
        "             min_samples_leaf = min_samples_leaf)\n",
        "\n",
        "#Create a Gaussian Classifier\n",
        "forest = RandomForestClassifier(random_state = 1)\n",
        "\n",
        "#Initialise the grid search\n",
        "gridF = GridSearchCV(forest, hyperF, cv = 3, verbose = 1, \n",
        "                      n_jobs = -1)\n",
        "\n",
        "\n",
        "#clf=RandomForestClassifier(n_estimators=100)\n",
        "\n",
        "#Train the model using the training sets \n",
        "#clf.fit(x_train_sc,x_test)\n",
        "bestF = gridF.fit(X_train_sc, X_test)\n",
        "\n",
        "clf=RandomForestClassifier()\n",
        "clf.set_params(**bestF.best_params_)\n",
        "\n",
        "clf.fit(X_train_sc, X_test)\n",
        "\n",
        "print(\"Initialising predictions...\")\n",
        "y_pred=clf.predict(y_train_sc)\n",
        "\n",
        "from sklearn.metrics import confusion_matrix \n",
        "from sklearn.metrics import accuracy_score \n",
        "from sklearn.metrics import classification_report \n",
        "\n",
        "results = confusion_matrix(y_test, y_pred)\n",
        "\n",
        "print('Confusion Matrix :')\n",
        "print(results) \n",
        "print('Accuracy Score :',accuracy_score(y_test, y_pred) )\n",
        "print('Report : ')\n",
        "print(classification_report(y_test, y_pred)) "
      ],
      "execution_count": 29,
      "outputs": [
        {
          "output_type": "stream",
          "text": [
            "Fitting 3 folds for each of 1 candidates, totalling 3 fits\n"
          ],
          "name": "stdout"
        },
        {
          "output_type": "stream",
          "text": [
            "[Parallel(n_jobs=-1)]: Using backend LokyBackend with 2 concurrent workers.\n",
            "[Parallel(n_jobs=-1)]: Done   3 out of   3 | elapsed:   14.4s finished\n",
            "/usr/local/lib/python3.6/dist-packages/sklearn/model_selection/_search.py:715: DataConversionWarning: A column-vector y was passed when a 1d array was expected. Please change the shape of y to (n_samples,), for example using ravel().\n",
            "  self.best_estimator_.fit(X, y, **fit_params)\n",
            "/usr/local/lib/python3.6/dist-packages/ipykernel_launcher.py:43: DataConversionWarning: A column-vector y was passed when a 1d array was expected. Please change the shape of y to (n_samples,), for example using ravel().\n"
          ],
          "name": "stderr"
        },
        {
          "output_type": "stream",
          "text": [
            "Initialising predictions...\n",
            "Confusion Matrix :\n",
            "[[10748  7782]\n",
            " [  575 27839]]\n",
            "Accuracy Score : 0.8219793796864349\n",
            "Report : \n",
            "              precision    recall  f1-score   support\n",
            "\n",
            "           0       0.95      0.58      0.72     18530\n",
            "           1       0.78      0.98      0.87     28414\n",
            "\n",
            "    accuracy                           0.82     46944\n",
            "   macro avg       0.87      0.78      0.79     46944\n",
            "weighted avg       0.85      0.82      0.81     46944\n",
            "\n"
          ],
          "name": "stdout"
        }
      ]
    },
    {
      "cell_type": "code",
      "metadata": {
        "id": "5A33J6o0Osfb",
        "colab_type": "code",
        "outputId": "5e0184e1-6ef6-4ed8-aeef-cc30e0450f82",
        "colab": {
          "base_uri": "https://localhost:8080/",
          "height": 122
        }
      },
      "source": [
        "#pred_results =  \n",
        "y_train['Retained']=y_pred"
      ],
      "execution_count": 30,
      "outputs": [
        {
          "output_type": "stream",
          "text": [
            "/usr/local/lib/python3.6/dist-packages/ipykernel_launcher.py:1: SettingWithCopyWarning: \n",
            "A value is trying to be set on a copy of a slice from a DataFrame.\n",
            "Try using .loc[row_indexer,col_indexer] = value instead\n",
            "\n",
            "See the caveats in the documentation: http://pandas.pydata.org/pandas-docs/stable/indexing.html#indexing-view-versus-copy\n",
            "  \"\"\"Entry point for launching an IPython kernel.\n"
          ],
          "name": "stderr"
        }
      ]
    },
    {
      "cell_type": "code",
      "metadata": {
        "id": "CmaoMQbKB_ao",
        "colab_type": "code",
        "colab": {
          "base_uri": "https://localhost:8080/",
          "height": 232
        },
        "outputId": "282bb1e7-97d0-4573-8289-7affff80403e"
      },
      "source": [
        "y_train.head()"
      ],
      "execution_count": 31,
      "outputs": [
        {
          "output_type": "execute_result",
          "data": {
            "text/html": [
              "<div>\n",
              "<style scoped>\n",
              "    .dataframe tbody tr th:only-of-type {\n",
              "        vertical-align: middle;\n",
              "    }\n",
              "\n",
              "    .dataframe tbody tr th {\n",
              "        vertical-align: top;\n",
              "    }\n",
              "\n",
              "    .dataframe thead th {\n",
              "        text-align: right;\n",
              "    }\n",
              "</style>\n",
              "<table border=\"1\" class=\"dataframe\">\n",
              "  <thead>\n",
              "    <tr style=\"text-align: right;\">\n",
              "      <th></th>\n",
              "      <th>Enrolment_Year</th>\n",
              "      <th>SFS</th>\n",
              "      <th>SFT</th>\n",
              "      <th>NPS</th>\n",
              "      <th>Course_Uniq</th>\n",
              "      <th>Course_Loc_Uniq</th>\n",
              "      <th>Subjects_Uniq</th>\n",
              "      <th>No of Years</th>\n",
              "      <th>Subjects_Repeated</th>\n",
              "      <th>School_School 1</th>\n",
              "      <th>School_School 10</th>\n",
              "      <th>School_School 11</th>\n",
              "      <th>School_School 12</th>\n",
              "      <th>School_School 13</th>\n",
              "      <th>School_School 14</th>\n",
              "      <th>School_School 2</th>\n",
              "      <th>School_School 3</th>\n",
              "      <th>School_School 4</th>\n",
              "      <th>School_School 5</th>\n",
              "      <th>School_School 6</th>\n",
              "      <th>School_School 7</th>\n",
              "      <th>School_School 8</th>\n",
              "      <th>School_School 9</th>\n",
              "      <th>ATAR_Band_40.00 - 49.95</th>\n",
              "      <th>ATAR_Band_50.00 - 59.95</th>\n",
              "      <th>ATAR_Band_60.00 - 69.95</th>\n",
              "      <th>ATAR_Band_70.00 - 79.95</th>\n",
              "      <th>ATAR_Band_80.00 - 89.95</th>\n",
              "      <th>ATAR_Band_90.00 - 99.95</th>\n",
              "      <th>ATAR_Band_NA</th>\n",
              "      <th>Age_Group 1</th>\n",
              "      <th>Age_Group 2</th>\n",
              "      <th>Age_Group 3</th>\n",
              "      <th>Age_Group 4</th>\n",
              "      <th>Age_Group 5</th>\n",
              "      <th>Age_Group 6</th>\n",
              "      <th>Age_Group 7</th>\n",
              "      <th>Age_NA</th>\n",
              "      <th>Course_Category_Group_Postgraduate Cwk</th>\n",
              "      <th>Course_Category_Group_Research</th>\n",
              "      <th>Course_Category_Group_Undergraduate</th>\n",
              "      <th>Retained</th>\n",
              "    </tr>\n",
              "  </thead>\n",
              "  <tbody>\n",
              "    <tr>\n",
              "      <th>93045</th>\n",
              "      <td>2017</td>\n",
              "      <td>7.250000</td>\n",
              "      <td>7.750000</td>\n",
              "      <td>5.375000</td>\n",
              "      <td>1</td>\n",
              "      <td>1</td>\n",
              "      <td>7</td>\n",
              "      <td>2</td>\n",
              "      <td>1</td>\n",
              "      <td>0</td>\n",
              "      <td>0</td>\n",
              "      <td>0</td>\n",
              "      <td>0</td>\n",
              "      <td>0</td>\n",
              "      <td>0</td>\n",
              "      <td>1</td>\n",
              "      <td>0</td>\n",
              "      <td>0</td>\n",
              "      <td>0</td>\n",
              "      <td>0</td>\n",
              "      <td>0</td>\n",
              "      <td>0</td>\n",
              "      <td>0</td>\n",
              "      <td>0</td>\n",
              "      <td>0</td>\n",
              "      <td>0</td>\n",
              "      <td>0</td>\n",
              "      <td>0</td>\n",
              "      <td>0</td>\n",
              "      <td>1</td>\n",
              "      <td>0.0</td>\n",
              "      <td>1.0</td>\n",
              "      <td>0.0</td>\n",
              "      <td>0.0</td>\n",
              "      <td>0.0</td>\n",
              "      <td>0.0</td>\n",
              "      <td>0.0</td>\n",
              "      <td>0.0</td>\n",
              "      <td>0.0</td>\n",
              "      <td>0.0</td>\n",
              "      <td>1.0</td>\n",
              "      <td>1</td>\n",
              "    </tr>\n",
              "    <tr>\n",
              "      <th>18312</th>\n",
              "      <td>2015</td>\n",
              "      <td>9.571429</td>\n",
              "      <td>6.285714</td>\n",
              "      <td>5.428571</td>\n",
              "      <td>1</td>\n",
              "      <td>1</td>\n",
              "      <td>7</td>\n",
              "      <td>3</td>\n",
              "      <td>0</td>\n",
              "      <td>0</td>\n",
              "      <td>0</td>\n",
              "      <td>0</td>\n",
              "      <td>0</td>\n",
              "      <td>0</td>\n",
              "      <td>0</td>\n",
              "      <td>0</td>\n",
              "      <td>0</td>\n",
              "      <td>0</td>\n",
              "      <td>1</td>\n",
              "      <td>0</td>\n",
              "      <td>0</td>\n",
              "      <td>0</td>\n",
              "      <td>0</td>\n",
              "      <td>0</td>\n",
              "      <td>0</td>\n",
              "      <td>0</td>\n",
              "      <td>0</td>\n",
              "      <td>0</td>\n",
              "      <td>0</td>\n",
              "      <td>1</td>\n",
              "      <td>0.0</td>\n",
              "      <td>1.0</td>\n",
              "      <td>0.0</td>\n",
              "      <td>0.0</td>\n",
              "      <td>0.0</td>\n",
              "      <td>0.0</td>\n",
              "      <td>0.0</td>\n",
              "      <td>0.0</td>\n",
              "      <td>0.0</td>\n",
              "      <td>0.0</td>\n",
              "      <td>1.0</td>\n",
              "      <td>1</td>\n",
              "    </tr>\n",
              "    <tr>\n",
              "      <th>147896</th>\n",
              "      <td>2018</td>\n",
              "      <td>9.333333</td>\n",
              "      <td>7.000000</td>\n",
              "      <td>5.666667</td>\n",
              "      <td>1</td>\n",
              "      <td>1</td>\n",
              "      <td>3</td>\n",
              "      <td>2</td>\n",
              "      <td>0</td>\n",
              "      <td>1</td>\n",
              "      <td>0</td>\n",
              "      <td>0</td>\n",
              "      <td>0</td>\n",
              "      <td>0</td>\n",
              "      <td>0</td>\n",
              "      <td>0</td>\n",
              "      <td>0</td>\n",
              "      <td>0</td>\n",
              "      <td>0</td>\n",
              "      <td>0</td>\n",
              "      <td>0</td>\n",
              "      <td>0</td>\n",
              "      <td>0</td>\n",
              "      <td>0</td>\n",
              "      <td>0</td>\n",
              "      <td>0</td>\n",
              "      <td>0</td>\n",
              "      <td>0</td>\n",
              "      <td>0</td>\n",
              "      <td>1</td>\n",
              "      <td>0.0</td>\n",
              "      <td>0.0</td>\n",
              "      <td>0.0</td>\n",
              "      <td>1.0</td>\n",
              "      <td>0.0</td>\n",
              "      <td>0.0</td>\n",
              "      <td>0.0</td>\n",
              "      <td>0.0</td>\n",
              "      <td>0.0</td>\n",
              "      <td>0.0</td>\n",
              "      <td>1.0</td>\n",
              "      <td>1</td>\n",
              "    </tr>\n",
              "    <tr>\n",
              "      <th>114180</th>\n",
              "      <td>2017</td>\n",
              "      <td>7.857143</td>\n",
              "      <td>6.714286</td>\n",
              "      <td>6.142857</td>\n",
              "      <td>1</td>\n",
              "      <td>1</td>\n",
              "      <td>7</td>\n",
              "      <td>3</td>\n",
              "      <td>0</td>\n",
              "      <td>0</td>\n",
              "      <td>0</td>\n",
              "      <td>0</td>\n",
              "      <td>0</td>\n",
              "      <td>0</td>\n",
              "      <td>0</td>\n",
              "      <td>1</td>\n",
              "      <td>0</td>\n",
              "      <td>0</td>\n",
              "      <td>0</td>\n",
              "      <td>0</td>\n",
              "      <td>0</td>\n",
              "      <td>0</td>\n",
              "      <td>0</td>\n",
              "      <td>0</td>\n",
              "      <td>0</td>\n",
              "      <td>0</td>\n",
              "      <td>0</td>\n",
              "      <td>0</td>\n",
              "      <td>0</td>\n",
              "      <td>1</td>\n",
              "      <td>0.0</td>\n",
              "      <td>0.0</td>\n",
              "      <td>1.0</td>\n",
              "      <td>0.0</td>\n",
              "      <td>0.0</td>\n",
              "      <td>0.0</td>\n",
              "      <td>0.0</td>\n",
              "      <td>0.0</td>\n",
              "      <td>0.0</td>\n",
              "      <td>0.0</td>\n",
              "      <td>1.0</td>\n",
              "      <td>1</td>\n",
              "    </tr>\n",
              "    <tr>\n",
              "      <th>12717</th>\n",
              "      <td>2015</td>\n",
              "      <td>9.000000</td>\n",
              "      <td>6.750000</td>\n",
              "      <td>6.750000</td>\n",
              "      <td>1</td>\n",
              "      <td>1</td>\n",
              "      <td>8</td>\n",
              "      <td>3</td>\n",
              "      <td>0</td>\n",
              "      <td>0</td>\n",
              "      <td>0</td>\n",
              "      <td>0</td>\n",
              "      <td>0</td>\n",
              "      <td>0</td>\n",
              "      <td>0</td>\n",
              "      <td>1</td>\n",
              "      <td>0</td>\n",
              "      <td>0</td>\n",
              "      <td>0</td>\n",
              "      <td>0</td>\n",
              "      <td>0</td>\n",
              "      <td>0</td>\n",
              "      <td>0</td>\n",
              "      <td>0</td>\n",
              "      <td>1</td>\n",
              "      <td>0</td>\n",
              "      <td>0</td>\n",
              "      <td>0</td>\n",
              "      <td>0</td>\n",
              "      <td>0</td>\n",
              "      <td>0.0</td>\n",
              "      <td>0.0</td>\n",
              "      <td>1.0</td>\n",
              "      <td>0.0</td>\n",
              "      <td>0.0</td>\n",
              "      <td>0.0</td>\n",
              "      <td>0.0</td>\n",
              "      <td>0.0</td>\n",
              "      <td>0.0</td>\n",
              "      <td>0.0</td>\n",
              "      <td>1.0</td>\n",
              "      <td>1</td>\n",
              "    </tr>\n",
              "  </tbody>\n",
              "</table>\n",
              "</div>"
            ],
            "text/plain": [
              "        Enrolment_Year       SFS  ...  Course_Category_Group_Undergraduate  Retained\n",
              "93045             2017  7.250000  ...                                  1.0         1\n",
              "18312             2015  9.571429  ...                                  1.0         1\n",
              "147896            2018  9.333333  ...                                  1.0         1\n",
              "114180            2017  7.857143  ...                                  1.0         1\n",
              "12717             2015  9.000000  ...                                  1.0         1\n",
              "\n",
              "[5 rows x 42 columns]"
            ]
          },
          "metadata": {
            "tags": []
          },
          "execution_count": 31
        }
      ]
    },
    {
      "cell_type": "code",
      "metadata": {
        "id": "rBvvCEXlaVfI",
        "colab_type": "code",
        "colab": {}
      },
      "source": [
        "y_train.to_csv('model_4_pred.csv')"
      ],
      "execution_count": 0,
      "outputs": []
    },
    {
      "cell_type": "markdown",
      "metadata": {
        "id": "LBY627ukAo3Q",
        "colab_type": "text"
      },
      "source": [
        "# Creating ROC Curve"
      ]
    },
    {
      "cell_type": "code",
      "metadata": {
        "id": "WZcGtdjBa12C",
        "colab_type": "code",
        "colab": {}
      },
      "source": [
        "import numpy as np\n",
        "import pandas as pd\n",
        "import matplotlib.pyplot as plt\n",
        "import seaborn as sns\n",
        "# roc curve and auc score\n",
        "from sklearn.datasets import make_classification\n",
        "from sklearn.neighbors import KNeighborsClassifier\n",
        "from sklearn.ensemble import RandomForestClassifier\n",
        "from sklearn.model_selection import train_test_split\n",
        "from sklearn.metrics import roc_curve\n",
        "from sklearn.metrics import roc_auc_score"
      ],
      "execution_count": 0,
      "outputs": []
    },
    {
      "cell_type": "code",
      "metadata": {
        "id": "jCyYhLHiAuDj",
        "colab_type": "code",
        "colab": {}
      },
      "source": [
        "def plot_roc_curve(fpr, tpr):\n",
        "    plt.plot(fpr, tpr, color='orange', label='ROC')\n",
        "    plt.plot([0, 1], [0, 1], color='darkblue', linestyle='--')\n",
        "    plt.xlabel('False Positive Rate')\n",
        "    plt.ylabel('True Positive Rate')\n",
        "    plt.title('Receiver Operating Characteristic (ROC) Curve')\n",
        "    plt.legend()\n",
        "    plt.show()"
      ],
      "execution_count": 0,
      "outputs": []
    },
    {
      "cell_type": "code",
      "metadata": {
        "id": "5yE_7DnaBW4_",
        "colab_type": "code",
        "colab": {}
      },
      "source": [
        "probs = clf.predict_proba(y_train)"
      ],
      "execution_count": 0,
      "outputs": []
    },
    {
      "cell_type": "code",
      "metadata": {
        "id": "2QxW0FDFJb0K",
        "colab_type": "code",
        "outputId": "47d14e4d-e05c-4785-f582-6fde2262bb67",
        "colab": {
          "base_uri": "https://localhost:8080/",
          "height": 140
        }
      },
      "source": [
        "probs"
      ],
      "execution_count": 40,
      "outputs": [
        {
          "output_type": "execute_result",
          "data": {
            "text/plain": [
              "array([[0.34553458, 0.65446542],\n",
              "       [0.3113794 , 0.6886206 ],\n",
              "       [0.30025082, 0.69974918],\n",
              "       ...,\n",
              "       [0.32806536, 0.67193464],\n",
              "       [0.32806536, 0.67193464],\n",
              "       [0.34426513, 0.65573487]])"
            ]
          },
          "metadata": {
            "tags": []
          },
          "execution_count": 40
        }
      ]
    },
    {
      "cell_type": "code",
      "metadata": {
        "id": "2CYevBOUBZvJ",
        "colab_type": "code",
        "colab": {}
      },
      "source": [
        "probs = probs[:, 1]"
      ],
      "execution_count": 0,
      "outputs": []
    },
    {
      "cell_type": "code",
      "metadata": {
        "id": "Z_lSA1taBcQh",
        "colab_type": "code",
        "outputId": "eaa4012b-b7f4-4150-cd36-85eadc95daf3",
        "colab": {
          "base_uri": "https://localhost:8080/",
          "height": 34
        }
      },
      "source": [
        "auc = roc_auc_score(y_test, probs)\n",
        "print('n_estimators=', n_estimators, ', max_depht=' , max_depth, ' AUC: %.2f' % auc)"
      ],
      "execution_count": 43,
      "outputs": [
        {
          "output_type": "stream",
          "text": [
            "n_estimators= [100] , max_depht= [10]  AUC: 0.69\n"
          ],
          "name": "stdout"
        }
      ]
    },
    {
      "cell_type": "code",
      "metadata": {
        "id": "l5uk5Ho1BiR9",
        "colab_type": "code",
        "outputId": "7edcbed4-f42d-46c5-8acb-3001c602fb44",
        "colab": {
          "base_uri": "https://localhost:8080/",
          "height": 313
        }
      },
      "source": [
        "fpr, tpr, thresholds = roc_curve(y_test, probs)\n",
        "plot_roc_curve(fpr, tpr)\n",
        "print('n_estimators=', n_estimators, ', max_depht=' , max_depth, ' AUC: %.2f' % auc)"
      ],
      "execution_count": 48,
      "outputs": [
        {
          "output_type": "display_data",
          "data": {
            "image/png": "[encoded data removed]",
            "text/plain": [
              "<Figure size 432x288 with 1 Axes>"
            ]
          },
          "metadata": {
            "tags": []
          }
        },
        {
          "output_type": "stream",
          "text": [
            "n_estimators= [100] , max_depht= [10]  AUC: 0.69\n"
          ],
          "name": "stdout"
        }
      ]
    }
  ]
}